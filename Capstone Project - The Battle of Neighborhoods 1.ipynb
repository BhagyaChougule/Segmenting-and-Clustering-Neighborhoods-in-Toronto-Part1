{
 "cells": [
  {
   "cell_type": "markdown",
   "metadata": {},
   "source": [
    "# Capstone Project - The Battle of Neighborhoods 1"
   ]
  },
  {
   "cell_type": "markdown",
   "metadata": {},
   "source": [
    "# Introduction (business problem) "
   ]
  },
  {
   "cell_type": "markdown",
   "metadata": {},
   "source": [
    "Suppose we want to open a Chinese cuisine restaurant, which neighborhood in Toronto is an better location?\n",
    "Generally speaking, as an private, start-up enterpreneur, the question can be put in an cost-benefit analytics framework, with fundamental rule of profit maximization. Answer to the question depends on the following sub-questions:\n",
    "1.Demand side Which neighborhood has the most demands on Chinese cuisine?\n",
    "2.Supply side Which neighborhood so far has the mildest competition regarding Chinese food?\n",
    "3.Market side The infrasturcure, supply chain, consumer preferences, transportation, neighborhood security, etc."
   ]
  },
  {
   "cell_type": "markdown",
   "metadata": {},
   "source": [
    "# 1. Demand side"
   ]
  },
  {
   "cell_type": "markdown",
   "metadata": {},
   "source": [
    "From the perspective of demand side, customers that may bring profits to restaurant are likely to be composed of two parts, domestic demand and external demand.<br>\n",
    "**Domestic demand** referes to local demands on Chinese food, mainly from inhabitants. Here are some candidate factors to take into consideration:<br>\n",
    "**1.**Domestic inhabitants.<br>\n",
    "**2.**Ethnic composition.<br> \n",
    "**3.**It is safe to suppose that Asian decendents prefer Asian foods including Chinese cuisine.<br>\n",
    "**4**.Other structural factors such as age, gender, occupation, income, and so on.<br>\n",
    "Due to data availability issues, in this assignment we only use the domestic inhabitants as a proxy to reflect domestic demand"
   ]
  },
  {
   "cell_type": "markdown",
   "metadata": {},
   "source": [
    "**External demand** referes to demands on Chinese food from those who come to this area for a short-period, for the purporses like tour, business trip, friend-visiting, and so on\n",
    "In this assignment, wee do not pay much attention to the external demand. The main reason is fixed effects: the neighborhoods we compare all locate in Toronto, a nice city attracting tourists from all over the world. It is safe to assume that tourists who come to Toronto may go everywhere and eat everywhere around the whole city. In that sense, neighborhoods do not differ much from each other"
   ]
  },
  {
   "cell_type": "markdown",
   "metadata": {},
   "source": [
    "# 2.Supply side\n"
   ]
  },
  {
   "cell_type": "markdown",
   "metadata": {},
   "source": [
    "The level of competition imposes obvious impacts on location choice of our restaurant, from the perspective of supply side.<br>\n",
    "To put in more details, we assume that:<br>\n",
    "**1.**The more restaurants there already exist in the neighborhood, the mor supply there is, and the less attractive it is for our choice, and<br>\n",
    "**2.**Of the total number of domestic restaurants, the more proportion of Chinese cuisines, the less attractive it is, as well."
   ]
  },
  {
   "cell_type": "markdown",
   "metadata": {},
   "source": [
    "# 3.Market trend"
   ]
  },
  {
   "cell_type": "markdown",
   "metadata": {},
   "source": [
    "It is an interesting topic to discuss what the growth trend of Canadian economy will look like in the following years, which may produce positive effect on restaurant profitability. Other factors include immigrants level and composition, infrastructural improvement, sightseeing changes, and so on.<br>\n",
    "However, in order to keep our research focuses, in this assignment we do not pay much attention to that.\n",
    "\n"
   ]
  },
  {
   "cell_type": "markdown",
   "metadata": {},
   "source": [
    "# Sum-up"
   ]
  },
  {
   "cell_type": "markdown",
   "metadata": {},
   "source": [
    "So we pay attention to the following factors, based on which to decide where to put ouer Chinese restaurant<br>\n",
    "\n",
    "**1.**Domestic inhabitant number, termed as Population<br>\n",
    "**2.**Number of restaurants, termed as Restaurant<br>\n",
    "**3.**Decomposition of Chinese restaurants relative to other cuisines, termed as ChnPercent<br>"
   ]
  },
  {
   "cell_type": "markdown",
   "metadata": {},
   "source": [
    "# Methodology"
   ]
  },
  {
   "cell_type": "markdown",
   "metadata": {},
   "source": [
    "he simple model could be written as $$ Attractiveness = F(ResDens, ChnPercent)$$\n",
    "\n",
    "where\n",
    "\n",
    "Attractiveness is our goal, used to measure whether it's a good idea to open the restaurant in this neighborhood\n",
    "ResDens is density of restaurants relative to inhabitants in this neighborhood, which would negative effect Attractiveness. It is calculated as $$ ResDens = Restaurants / Population$$\n",
    "ChnPercent is the percentage of Chinese restaurants in this neighborhood, calculated as $$ ChnPercent = (\\text{number of Chinese restaurants}) / (\\text{total number of restaurants}) $$\n",
    "For the sake of simplicity, we assume $F()$ is a linear function and $\\partial F / \\partial x &gt; 0$, $\\partial^2 F / \\partial x^2 &lt; 0$, $x = \\{ ResDens, ChnPercent \\}$."
   ]
  },
  {
   "cell_type": "markdown",
   "metadata": {},
   "source": [
    "# Data Description"
   ]
  },
  {
   "cell_type": "markdown",
   "metadata": {},
   "source": [
    "Sources of the previously mentioned data may be:<br>\n",
    "\n",
    "**1.**Population by Borough and Neighborhood.<br>\n",
    "**2.**Statistics Bureau of Canada, UN Database.<br>\n",
    "**3.**Restaurants by number, style, and locations.<br>\n",
    "**4.**Collection from Foursquare API."
   ]
  },
  {
   "cell_type": "markdown",
   "metadata": {},
   "source": [
    "# Analytics"
   ]
  },
  {
   "cell_type": "markdown",
   "metadata": {},
   "source": [
    "To be conducted. Results are expected."
   ]
  },
  {
   "cell_type": "markdown",
   "metadata": {},
   "source": [
    "# Analytics-driven implications & Conculusions"
   ]
  },
  {
   "cell_type": "markdown",
   "metadata": {},
   "source": [
    "Based on the empirical results, this section answers the following questions:<br>\n",
    "\n",
    "**1.**Which neighborhood / Borough of Toronto is the best Choice for opening a new Chinese restaurant<br>\n",
    "**2.**What are the other risks / opportunities to pay attention to, regarding this enterpreneurship adventure?<br>\n",
    "**3.**TODOs in the following stage of research"
   ]
  },
  {
   "cell_type": "code",
   "execution_count": null,
   "metadata": {},
   "outputs": [],
   "source": []
  }
 ],
 "metadata": {
  "kernelspec": {
   "display_name": "Python 3",
   "language": "python",
   "name": "python3"
  },
  "language_info": {
   "codemirror_mode": {
    "name": "ipython",
    "version": 3
   },
   "file_extension": ".py",
   "mimetype": "text/x-python",
   "name": "python",
   "nbconvert_exporter": "python",
   "pygments_lexer": "ipython3",
   "version": "3.7.1"
  }
 },
 "nbformat": 4,
 "nbformat_minor": 2
}
